{
 "cells": [
  {
   "cell_type": "markdown",
   "metadata": {},
   "source": [
    "# A (very) simple waveform generator using Plotly's streaming API\n",
    "####You'll probably want to use something else than ossaudiodev...\n",
    "#### If you want support for other format that wav, using pydub should be fairly straightforward"
   ]
  },
  {
   "cell_type": "code",
   "execution_count": 1,
   "metadata": {
    "collapsed": true
   },
   "outputs": [],
   "source": [
    "N = 4 # Number of intervals per sec (20 max ?)\n",
    "FILENAME = 'bonobo_pieces.wav' # Obviously choose your own song"
   ]
  },
  {
   "cell_type": "code",
   "execution_count": 2,
   "metadata": {
    "collapsed": true
   },
   "outputs": [],
   "source": [
    "import numpy as np\n",
    "import matplotlib\n",
    "import matplotlib.pyplot as plt\n",
    "import matplotlib.mlab as mlab\n",
    "%matplotlib inline"
   ]
  },
  {
   "cell_type": "code",
   "execution_count": 3,
   "metadata": {
    "collapsed": false
   },
   "outputs": [],
   "source": [
    "import plotly.plotly as py\n",
    "import plotly.tools as tls\n",
    "from plotly.graph_objs import *\n",
    "# py.iplot(data, filename = 'graph_name', fileopt='mode')"
   ]
  },
  {
   "cell_type": "markdown",
   "metadata": {},
   "source": [
    "#### Use your own stream tokens"
   ]
  },
  {
   "cell_type": "code",
   "execution_count": 4,
   "metadata": {
    "collapsed": false
   },
   "outputs": [],
   "source": [
    "tls.set_credentials_file(stream_ids=[\n",
    "        'stream_token1',\n",
    "        'stream_token_2',\n",
    "        'stream_token_3',\n",
    "        'stream_token_4'])\n",
    "stream_ids = tls.get_credentials_file()['stream_ids']\n",
    "\n",
    "stream_id0 = stream_ids[0]\n",
    "stream0 = Stream(\n",
    "    token=stream_id0,\n",
    "    #maxpoints=5000\n",
    ")\n",
    "\n",
    "stream_id1 = stream_ids[1]\n",
    "stream1 = Stream(\n",
    "    token=stream_id1,\n",
    "    #maxpoints=5000\n",
    ")"
   ]
  },
  {
   "cell_type": "code",
   "execution_count": 5,
   "metadata": {
    "collapsed": false
   },
   "outputs": [],
   "source": [
    "trace1 = Scatter(\n",
    "    name='Channel 1',\n",
    "    x=[],\n",
    "    y=[],\n",
    "    stream=stream0,\n",
    "\n",
    "    mode='lines+markers',\n",
    "    line=Line(\n",
    "        shape='spline'\n",
    "    )\n",
    ")\n",
    "\n",
    "trace2 = Scatter(\n",
    "    name='Channel 2',\n",
    "    x=[],\n",
    "    y=[],\n",
    "    stream=stream1, \n",
    "    \n",
    "    mode='lines+markers',\n",
    "    line=Line(\n",
    "        shape='spline'\n",
    "    )\n",
    ")\n",
    "\n",
    "data = Data([trace1, trace2])"
   ]
  },
  {
   "cell_type": "code",
   "execution_count": 6,
   "metadata": {
    "collapsed": false
   },
   "outputs": [],
   "source": [
    "layout = Layout(title='Waveform')\n",
    "\n",
    "fig = Figure(data=data, layout=layout)\n",
    "\n",
    "unique_url = py.plot(fig, filename='waveform-first-stream')"
   ]
  },
  {
   "cell_type": "code",
   "execution_count": 7,
   "metadata": {
    "collapsed": false
   },
   "outputs": [],
   "source": [
    "s0 = py.Stream(stream_id0)\n",
    "s1 = py.Stream(stream_id1)\n",
    "s0.open()\n",
    "s1.open()"
   ]
  },
  {
   "cell_type": "markdown",
   "metadata": {},
   "source": [
    "#Wav file format\n",
    "\n",
    "\n",
    "A wav files' data stream usually goes like this:\n",
    "\n",
    "[ch1][ch2][ch1][ch2]...\n",
    "\n",
    "where each [ch1][ch2] pair is a frame (asssuming 2 channels of course)"
   ]
  },
  {
   "cell_type": "code",
   "execution_count": 8,
   "metadata": {
    "collapsed": false
   },
   "outputs": [],
   "source": [
    "import wave\n",
    "audio_file = wave.open(FILENAME)"
   ]
  },
  {
   "cell_type": "code",
   "execution_count": 9,
   "metadata": {
    "collapsed": false,
    "scrolled": true
   },
   "outputs": [],
   "source": [
    "nchannels, sampwidth, framerate, nframes, comptype, compname = audio_file.getparams()\n",
    "data = np.fromstring(audio_file.readframes(-1), np.int16)\n",
    "\n",
    "# Split channels (Currently this nb works only for 2 channels files since streams are \"hardcoded\")\n",
    "channels = []\n",
    "for channel in range(nchannels):\n",
    "    channels.append(data[channel::nchannels])"
   ]
  },
  {
   "cell_type": "code",
   "execution_count": 10,
   "metadata": {
    "collapsed": false
   },
   "outputs": [
    {
     "data": {
      "text/plain": [
       "(16, 2, 44100)"
      ]
     },
     "execution_count": 10,
     "metadata": {},
     "output_type": "execute_result"
    }
   ],
   "source": [
    "# Blocking...Might need to kill processes that outputs sound?\n",
    "from ossaudiodev import open as ossOpen\n",
    "dsp = ossOpen('/dev/dsp', 'w')\n",
    "\n",
    "try:\n",
    "    from ossaudiodev import AFMT_S16_NE\n",
    "except ImportError:\n",
    "    if byteorder == 'little':\n",
    "        AFMT_S16_NE = ossaudiodev.AFMT_S16_LE\n",
    "    else:\n",
    "        AFMT_S16_NE = ossaudiodev.AFMT_S16_BE\n",
    "        \n",
    "dsp.setparameters(AFMT_S16_NE, nchannels, framerate)"
   ]
  },
  {
   "cell_type": "code",
   "execution_count": 11,
   "metadata": {
    "collapsed": true
   },
   "outputs": [],
   "source": [
    "# Song length (in seconds)\n",
    "# This will be the \"streaming\" rate\n",
    "length = len(data) // nchannels // framerate\n",
    "intervals = length * N # Plotly can plot up to 20 pts per sec?"
   ]
  },
  {
   "cell_type": "code",
   "execution_count": null,
   "metadata": {
    "collapsed": false
   },
   "outputs": [],
   "source": [
    "for x in range(intervals):\n",
    "    _data = data[:framerate*nchannels/N]\n",
    "    dsp.write(_data)\n",
    "    #s0.write(dict(x=x, y=np.mean(channels[0][:framerate/N])))\n",
    "    #s1.write(dict(x=x, y=np.mean(channels[1][:framerate/N])))\n",
    "    s0.write(dict(x=x, y=channels[0][x]))\n",
    "    s1.write(dict(x=x, y=channels[1][x]))\n",
    "    \n",
    "    # Update\n",
    "    data = data[framerate*nchannels/N:]\n",
    "    channels[0] = channels[0][framerate/N:]\n",
    "    channels[1] = channels[1][framerate/N:]"
   ]
  },
  {
   "cell_type": "code",
   "execution_count": 28,
   "metadata": {
    "collapsed": true
   },
   "outputs": [],
   "source": [
    "# Reset\n",
    "audio_file.rewind()\n",
    "data = np.fromstring(audio_file.readframes(-1), np.int16)\n",
    "channels = []\n",
    "for channel in range(nchannels):\n",
    "    channels.append(data[channel::nchannels])\n",
    "    \n",
    "unique_url = py.plot(fig, filename='waveform-first-stream')"
   ]
  },
  {
   "cell_type": "code",
   "execution_count": null,
   "metadata": {
    "collapsed": true
   },
   "outputs": [],
   "source": [
    "# Close\n",
    "audio_file.close()\n",
    "dsp.close()"
   ]
  }
 ],
 "metadata": {
  "kernelspec": {
   "display_name": "Python 3",
   "language": "python",
   "name": "python3"
  },
  "language_info": {
   "codemirror_mode": {
    "name": "ipython",
    "version": 3
   },
   "file_extension": ".py",
   "mimetype": "text/x-python",
   "name": "python",
   "nbconvert_exporter": "python",
   "pygments_lexer": "ipython3",
   "version": "3.4.2"
  }
 },
 "nbformat": 4,
 "nbformat_minor": 0
}
